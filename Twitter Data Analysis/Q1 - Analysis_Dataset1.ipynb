{
 "cells": [
  {
   "cell_type": "code",
   "execution_count": 1,
   "metadata": {},
   "outputs": [],
   "source": [
    "import pandas as pd\n",
    "import numpy as np\n",
    "import igraph.test\n",
    "from igraph import *\n",
    "import csv\n",
    "import numpy as np\n",
    "import networkx as nx\n",
    "import operator\n",
    "import copy\n",
    "from IPython.core.display import display, SVG\n",
    "import math\n",
    "from textblob import TextBlob\n",
    "import numpy\n",
    "from matplotlib import pyplot"
   ]
  },
  {
   "cell_type": "markdown",
   "metadata": {},
   "source": [
    "# #LawyersVsDelhiPolice\n",
    "209 users <br>\n",
    "200 tweets over 6 minutes <br>\n",
    "Thousands of police protested outside police headquarters on to demand action against those who involved in a attack on their colleague outside the Saket Court <br>\n",
    "Clash over parking dispute<br>\n"
   ]
  },
  {
   "cell_type": "code",
   "execution_count": 2,
   "metadata": {},
   "outputs": [],
   "source": [
    "follower_data =  pd.read_csv(r\"./Dataset/#LawyersVsDelhiPolice_follower_followee_network.csv\", encoding=\"utf-8\")"
   ]
  },
  {
   "cell_type": "code",
   "execution_count": 3,
   "metadata": {},
   "outputs": [],
   "source": [
    "follower_data['user_id'] = follower_data['user_id'].apply(lambda x:str(x))"
   ]
  },
  {
   "cell_type": "code",
   "execution_count": 4,
   "metadata": {},
   "outputs": [],
   "source": [
    "tweet_data = pd.read_csv(r\"./Dataset/#LawyersVsDelhiPolice_tweets.csv\", encoding=\"utf-8\")"
   ]
  },
  {
   "cell_type": "code",
   "execution_count": 5,
   "metadata": {},
   "outputs": [],
   "source": [
    "unique_uids = follower_data['user_id']"
   ]
  },
  {
   "cell_type": "code",
   "execution_count": 6,
   "metadata": {},
   "outputs": [],
   "source": [
    "follower_data[\"followerIDs\"] = follower_data[\"followerIDs\"].fillna(\"\")"
   ]
  },
  {
   "cell_type": "code",
   "execution_count": 7,
   "metadata": {},
   "outputs": [],
   "source": [
    "to_lst = lambda x:np.asarray(x.split(\", \"))\n",
    "follower_data[\"followerIDs_lst\"] = follower_data[\"followerIDs\"].apply(to_lst)"
   ]
  },
  {
   "cell_type": "code",
   "execution_count": 8,
   "metadata": {},
   "outputs": [],
   "source": [
    "common = lambda x:np.intersect1d(x,unique_uids)\n",
    "follower_data[\"req_followerIDs_lst\"] = follower_data[\"followerIDs_lst\"].apply(common)"
   ]
  },
  {
   "cell_type": "code",
   "execution_count": 9,
   "metadata": {},
   "outputs": [],
   "source": [
    "tweet_data[\"retweet_user_id\"] = tweet_data[\"retweet_user_id\"].fillna(\"\").apply(lambda x: (x[1:]))"
   ]
  },
  {
   "cell_type": "code",
   "execution_count": 10,
   "metadata": {},
   "outputs": [],
   "source": [
    "tweet_data[\"user_id\"] = tweet_data[\"user_id\"].fillna(\"\").apply(lambda x: (x[1:]))"
   ]
  },
  {
   "cell_type": "code",
   "execution_count": 11,
   "metadata": {},
   "outputs": [],
   "source": [
    "follower_edge_list = []\n",
    "for i in range(len(follower_data)):\n",
    "    for follower in follower_data[\"req_followerIDs_lst\"][i]:\n",
    "        follower_edge_list.append((follower,follower_data[\"user_id\"][i]))"
   ]
  },
  {
   "cell_type": "code",
   "execution_count": 12,
   "metadata": {},
   "outputs": [],
   "source": [
    "follower_followee_graph = igraph.Graph.TupleList(follower_edge_list, directed = True)\n",
    "follower_followee_graph.deg = [5*i+2 for i in follower_followee_graph.indegree()] "
   ]
  },
  {
   "cell_type": "code",
   "execution_count": 13,
   "metadata": {},
   "outputs": [],
   "source": [
    "follower_followee_graph.id = [v[\"name\"] for v in follower_followee_graph.vs]\n",
    "follower_followee_graph.name_obj = []\n",
    "for uid in follower_followee_graph.id: \n",
    "    follower_followee_graph.name_obj.append(follower_data.loc[follower_data['user_id'] == uid, 'screen_name'])\n",
    "\n",
    "follower_followee_graph.name = []\n",
    "for name in follower_followee_graph.name_obj:\n",
    "    if(name.empty):\n",
    "        follower_followee_graph.name.append(\"nan\")\n",
    "    else:\n",
    "        follower_followee_graph.name.append(name.values[0])"
   ]
  },
  {
   "cell_type": "markdown",
   "metadata": {},
   "source": [
    "# Follower Followee Network\n",
    "Nodes are Users<br>\n",
    "Edge from i to j means i follows j<br>\n",
    "Main Influencers are the ones with High Degree Centrality.They are AlkaMaverick and maqbool_sm<br>\n",
    "Size of node in the plot is it's indegree"
   ]
  },
  {
   "cell_type": "code",
   "execution_count": 14,
   "metadata": {},
   "outputs": [],
   "source": [
    "out = plot(follower_followee_graph,vertex_size=2*follower_followee_graph.deg,vertex_label=follower_followee_graph.name,vertex_label_size=follower_followee_graph.deg)\n",
    "out.save('Outputs/DS1.1.1.png')"
   ]
  },
  {
   "cell_type": "markdown",
   "metadata": {},
   "source": [
    "<img src=\"Outputs/DS1.1.1.png\">"
   ]
  },
  {
   "cell_type": "code",
   "execution_count": 15,
   "metadata": {},
   "outputs": [],
   "source": [
    "community = follower_followee_graph.community_walktrap()"
   ]
  },
  {
   "cell_type": "markdown",
   "metadata": {},
   "source": [
    "# Communities\n",
    "\n",
    "Community detection based on random walks<br>\n",
    "Two main influencers are part of different communities<br>\n",
    "This is because there are two sides of the case and each of the influencers supports different sides of the case"
   ]
  },
  {
   "cell_type": "code",
   "execution_count": 16,
   "metadata": {},
   "outputs": [],
   "source": [
    "out = plot(community.as_clustering(),edge_arrow_size=0.6,vertex_label=follower_followee_graph.name,vertex_label_size=follower_followee_graph.deg)\n",
    "out.save('Outputs/DS1.1.2.png')"
   ]
  },
  {
   "cell_type": "markdown",
   "metadata": {},
   "source": [
    "<img src=\"Outputs/DS1.1.2.png\">"
   ]
  },
  {
   "cell_type": "code",
   "execution_count": 17,
   "metadata": {},
   "outputs": [],
   "source": [
    "edge_list_tweets_existing = []\n",
    "common_users = list(set(unique_uids))\n",
    "for i in range(len(tweet_data)):\n",
    "    if tweet_data.iloc[i][\"retweet_user_id\"] in common_users : edge_list_tweets_existing.append((tweet_data.iloc[i][\"retweet_user_id\"],tweet_data.iloc[i][\"user_id\"]))"
   ]
  },
  {
   "cell_type": "code",
   "execution_count": 18,
   "metadata": {},
   "outputs": [],
   "source": [
    "Gm = igraph.Graph.TupleList(edge_list_tweets_existing, directed = True)\n",
    "Gm.deg = [2*i+5 for i in Gm.outdegree()]"
   ]
  },
  {
   "cell_type": "code",
   "execution_count": 19,
   "metadata": {},
   "outputs": [],
   "source": [
    "Gm.id = [v[\"name\"] for v in Gm.vs]\n",
    "\n",
    "Gm.name = []\n",
    "for i in range(len(Gm.id)):\n",
    "    uid = Gm.id[i]\n",
    "    name = follower_data.loc[follower_data['user_id'] == uid, 'screen_name']\n",
    "    if(Gm.deg[i]==0):\n",
    "        Gm.name.append(\"\")\n",
    "    elif(name.empty):\n",
    "        Gm.name.append(\"nan\")\n",
    "    else:\n",
    "        Gm.name.append(name.values[0])"
   ]
  },
  {
   "cell_type": "markdown",
   "metadata": {},
   "source": [
    "# Retweet Network\n",
    "Nodes are Users<br>\n",
    "Edge from i to j means i follows j<br>\n",
    "Most retweeted users are Vishj05 and manakgupta<br>\n",
    "## Follower followee vs retweet network\n",
    "The two main influencers tweets aren't the ones which got retweeted maximum<br>\n",
    "This is because the tweets of Vishj05 and manakgupta are more powerful\n",
    "## Reachability\n",
    "Reachability of Vishj05 is same as his out degree, where as for manakgupta, there is one hop of retweet(his retweet is retweeted again)"
   ]
  },
  {
   "cell_type": "code",
   "execution_count": 20,
   "metadata": {},
   "outputs": [],
   "source": [
    "out = plot(Gm,vertex_label=Gm.name,vertex_size=2*Gm.deg,vertex_label_size=Gm.deg)\n",
    "out.save(\"Outputs/DS1.2.png\")"
   ]
  },
  {
   "cell_type": "markdown",
   "metadata": {},
   "source": [
    "<img src=\"Outputs/DS1.2.png\">"
   ]
  },
  {
   "cell_type": "code",
   "execution_count": 21,
   "metadata": {},
   "outputs": [],
   "source": [
    "tweet_data1 = tweet_data.loc[(tweet_data['created_at'] >= '2019-11-05 17:19:00') & (tweet_data['created_at'] < '2019-11-05 17:21:00')]\n",
    "tweet_data2 = tweet_data.loc[(tweet_data['created_at'] >= '2019-11-05 17:19:00') & (tweet_data['created_at'] < '2019-11-05 17:23:00')]\n",
    "tweet_data3 = tweet_data.loc[(tweet_data['created_at'] >= '2019-11-05 17:19:00') & (tweet_data['created_at'] < '2019-11-05 17:25:00')]"
   ]
  },
  {
   "cell_type": "code",
   "execution_count": 22,
   "metadata": {},
   "outputs": [],
   "source": [
    "edge_list_tweets_1 = []\n",
    "for i in range(len(tweet_data1)):\n",
    "    if tweet_data.iloc[i][\"retweet_user_id\"]!= \"\" : \n",
    "        edge_list_tweets_1.append((tweet_data.iloc[i][\"retweet_user_id\"],tweet_data.iloc[i][\"user_id\"]))\n",
    "\n",
    "edge_list_tweets_2 = []\n",
    "for i in range(len(tweet_data2)):\n",
    "    if tweet_data.iloc[i][\"retweet_user_id\"]!= \"\" : \n",
    "        edge_list_tweets_2.append((tweet_data.iloc[i][\"retweet_user_id\"],tweet_data.iloc[i][\"user_id\"]))\n",
    "        \n",
    "edge_list_tweets_3 = []\n",
    "for i in range(len(tweet_data3)):\n",
    "    if tweet_data.iloc[i][\"retweet_user_id\"]!= \"\" : \n",
    "        edge_list_tweets_3.append((tweet_data.iloc[i][\"retweet_user_id\"],tweet_data.iloc[i][\"user_id\"]))\n",
    "        "
   ]
  },
  {
   "cell_type": "code",
   "execution_count": 23,
   "metadata": {},
   "outputs": [],
   "source": [
    "retweet_graph_1 = igraph.Graph.TupleList(edge_list_tweets_1, directed = True)\n",
    "retweet_graph_1.id = [v[\"name\"] for v in retweet_graph_1.vs]\n",
    "retweet_graph_2 = igraph.Graph.TupleList(edge_list_tweets_2, directed = True)\n",
    "retweet_graph_2.id = [v[\"name\"] for v in retweet_graph_2.vs]"
   ]
  },
  {
   "cell_type": "code",
   "execution_count": 24,
   "metadata": {},
   "outputs": [],
   "source": [
    "retweet_graph_3 = igraph.Graph.TupleList(edge_list_tweets_3, directed = True)\n",
    "\n",
    "retweet_graph_3.id = [v[\"name\"] for v in retweet_graph_3.vs]\n",
    "col=[]\n",
    "for i in retweet_graph_3.id:\n",
    "    if(i in set(retweet_graph_1.id)):\n",
    "        col.append('red')\n",
    "    elif(i in set(retweet_graph_2.id)):\n",
    "        col.append('blue')\n",
    "    else:\n",
    "        col.append('green')"
   ]
  },
  {
   "cell_type": "markdown",
   "metadata": {},
   "source": [
    "# Analysis over time\n",
    "## Retweet network\n",
    "First 2 minutes - Red<br>\n",
    "Next 2 minutes - Blue<br>\n",
    "Last 2 minutes - Green<br>\n",
    "## Communities growing over time\n",
    "The largest commuties are the ones which started in the first 2 minutes"
   ]
  },
  {
   "cell_type": "code",
   "execution_count": 25,
   "metadata": {},
   "outputs": [],
   "source": [
    "out = plot(retweet_graph_3,vertex_size=10,vertex_color=col,edge_arrow_size=0.65)\n",
    "out.save('Outputs/DS1.3.png')"
   ]
  },
  {
   "cell_type": "markdown",
   "metadata": {},
   "source": [
    "<img src=\"Outputs/DS1.3.png\">"
   ]
  },
  {
   "cell_type": "code",
   "execution_count": 26,
   "metadata": {},
   "outputs": [],
   "source": [
    "required_follower_data = follower_data[follower_data['screen_name']=='AlkaMaverick'] \n",
    "required_follower_data1 = follower_data[follower_data['screen_name']=='maqbool_sm'] \n",
    "required_follower_data = required_follower_data.append(required_follower_data1)"
   ]
  },
  {
   "cell_type": "code",
   "execution_count": 27,
   "metadata": {},
   "outputs": [],
   "source": [
    "AlkaMaverick = tweet_data[tweet_data['screen_name']=='AlkaMaverick']['text'].iloc[0]\n",
    "AlkaMaverick_sentiment = TextBlob(AlkaMaverick).sentiment\n",
    "AlkaMaverick_followers = follower_data[follower_data['screen_name']=='AlkaMaverick']['req_followerIDs_lst'].iloc[0]\n",
    "AlkaMaverick_sentiment_lst = []\n",
    "for i in range(len(AlkaMaverick_followers)):\n",
    "    txt = tweet_data[tweet_data['user_id']==AlkaMaverick_followers[i]]['text'].iloc[0]\n",
    "    AlkaMaverick_sentiment_lst.append(TextBlob(txt).sentiment)"
   ]
  },
  {
   "cell_type": "code",
   "execution_count": 28,
   "metadata": {},
   "outputs": [],
   "source": [
    "maqbool_sm = tweet_data[tweet_data['screen_name']=='maqbool_sm']['text'].iloc[0]\n",
    "maqbool_sm_sentiment = TextBlob(maqbool_sm).sentiment\n",
    "maqbool_sm_followers = follower_data[follower_data['screen_name']=='maqbool_sm']['req_followerIDs_lst'].iloc[0]\n",
    "maqbool_sm_sentiment_lst = []\n",
    "for i in range(len(maqbool_sm_followers)):\n",
    "    txt = tweet_data[tweet_data['user_id']==maqbool_sm_followers[i]]['text'].iloc[0]\n",
    "    maqbool_sm_sentiment_lst.append(TextBlob(txt).sentiment)"
   ]
  },
  {
   "cell_type": "markdown",
   "metadata": {},
   "source": [
    "# Sentiments of Influencers Vs Propagators\n",
    "Main Influencers - Alka Maverick and maqbool_sm<br>\n",
    "## Alka Maverick\n",
    "Sentiment of all the followers are similar to his sentiment\n",
    "## maqbool_sm\n",
    "Sentiment of some of the followers are deviating from his sentiment\n",
    "## Plot\n",
    "Y axis - Polarity (-1 very negative to +1 very positive)<br>\n",
    "Blue line is sentiment of influencer<br>\n",
    "Red dots are sentiments of propogators<br>"
   ]
  },
  {
   "cell_type": "code",
   "execution_count": 29,
   "metadata": {},
   "outputs": [
    {
     "data": {
      "image/png": "[encoded data removed]",
      "text/plain": [
       "<Figure size 432x288 with 1 Axes>"
      ]
     },
     "metadata": {
      "needs_background": "light"
     },
     "output_type": "display_data"
    }
   ],
   "source": [
    "x = numpy.array(range(1,len(AlkaMaverick_sentiment_lst)+1))\n",
    "y1 = numpy.array([AlkaMaverick_sentiment.polarity]*(len(AlkaMaverick_sentiment_lst)))\n",
    "y2 = numpy.array([x.polarity for x in AlkaMaverick_sentiment_lst])\n",
    "\n",
    "fig = pyplot.figure()\n",
    "ax = fig.add_subplot(111)\n",
    "ax.set_ylim(-1,1)\n",
    "pyplot.xlabel('Followers')\n",
    "pyplot.ylabel('Polarity')\n",
    "\n",
    "pyplot.plot(x,y1,label=\"Influencer-AlkaMaverick\",color='b')\n",
    "for i,j in zip(x,y1):\n",
    "    ax.annotate(str(j),xy=(i,j))\n",
    "\n",
    "pyplot.scatter(x,y2,label=\"Propagators\",color='r')\n",
    "for i,j in zip(x,y2):\n",
    "    ax.annotate(str(j),xy=(i,j))\n",
    "    \n",
    "pyplot.legend(loc=\"upper left\")\n",
    "\n",
    "pyplot.savefig('Outputs/DS1.4.1.png')"
   ]
  },
  {
   "cell_type": "markdown",
   "metadata": {},
   "source": [
    "<img src=\"Outputs/DS1.4.1.png\">"
   ]
  },
  {
   "cell_type": "code",
   "execution_count": 30,
   "metadata": {},
   "outputs": [
    {
     "data": {
      "image/png": "[encoded data removed]",
      "text/plain": [
       "<Figure size 432x288 with 1 Axes>"
      ]
     },
     "metadata": {
      "needs_background": "light"
     },
     "output_type": "display_data"
    }
   ],
   "source": [
    "x = numpy.array(range(1,len(maqbool_sm_sentiment_lst)+1))\n",
    "y1 = numpy.array([maqbool_sm_sentiment.polarity]*(len(maqbool_sm_sentiment_lst)))\n",
    "y2 = numpy.array([x.polarity for x in maqbool_sm_sentiment_lst])\n",
    "\n",
    "fig = pyplot.figure()\n",
    "ax = fig.add_subplot(111)\n",
    "ax.set_ylim(-1,1)\n",
    "pyplot.xlabel('Followers')\n",
    "pyplot.ylabel('Polarity')\n",
    "\n",
    "pyplot.plot(x,y1,label=\"Influencer-maqbool_sm\",color='b')\n",
    "for i,j in zip(x,y1):\n",
    "    ax.annotate(str(j),xy=(i,j))\n",
    "\n",
    "pyplot.scatter(x,y2,label=\"Propagators\",color='r')\n",
    "for i,j in zip(x,y2):\n",
    "    ax.annotate(str(j),xy=(i,j))\n",
    "    \n",
    "pyplot.legend(loc=\"upper left\")\n",
    "\n",
    "pyplot.savefig('Outputs/DS1.4.2.png')"
   ]
  },
  {
   "cell_type": "markdown",
   "metadata": {},
   "source": [
    "<img src=\"Outputs/DS1.4.2.png\">"
   ]
  }
 ],
 "metadata": {
  "kernelspec": {
   "display_name": "Python 3",
   "language": "python",
   "name": "python3"
  },
  "language_info": {
   "codemirror_mode": {
    "name": "ipython",
    "version": 3
   },
   "file_extension": ".py",
   "mimetype": "text/x-python",
   "name": "python",
   "nbconvert_exporter": "python",
   "pygments_lexer": "ipython3",
   "version": "3.6.8"
  }
 },
 "nbformat": 4,
 "nbformat_minor": 2
}
