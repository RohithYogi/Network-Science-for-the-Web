{
 "cells": [
  {
   "cell_type": "code",
   "execution_count": 1,
   "metadata": {},
   "outputs": [],
   "source": [
    "import pandas as pd\n",
    "import numpy as np\n",
    "import igraph.test\n",
    "from igraph import *\n",
    "import csv\n",
    "import numpy as np\n",
    "import networkx as nx\n",
    "import operator\n",
    "import copy\n",
    "from IPython.core.display import display, SVG\n",
    "import math\n",
    "from textblob import TextBlob\n",
    "import numpy\n",
    "from matplotlib import pyplot"
   ]
  },
  {
   "cell_type": "markdown",
   "metadata": {},
   "source": [
    "# #AmazonFires\n",
    "160 users <br>\n",
    "181 tweets over 4 days <br>\n",
    "Wildfires in Amazon forest from August 15th to 22nd of 2019"
   ]
  },
  {
   "cell_type": "code",
   "execution_count": 2,
   "metadata": {},
   "outputs": [],
   "source": [
    "follower_data =  pd.read_csv(r\"./Dataset/#AmazonFires_follower_followee_network.csv\", encoding=\"utf-8\")"
   ]
  },
  {
   "cell_type": "code",
   "execution_count": 3,
   "metadata": {},
   "outputs": [],
   "source": [
    "tweet_data = pd.read_csv(r\"./Dataset/#AmazonFires_tweets.csv\", encoding=\"utf-8\")"
   ]
  },
  {
   "cell_type": "code",
   "execution_count": 4,
   "metadata": {},
   "outputs": [],
   "source": [
    "tweet_data[\"user_id\"] = tweet_data[\"user_id\"].apply(lambda x: (x[1:]))\n",
    "uids = tweet_data[\"user_id\"]\n",
    "unique_uids = uids.unique()"
   ]
  },
  {
   "cell_type": "code",
   "execution_count": 5,
   "metadata": {},
   "outputs": [],
   "source": [
    "follower_data['user_id'] = unique_uids"
   ]
  },
  {
   "cell_type": "code",
   "execution_count": 6,
   "metadata": {},
   "outputs": [],
   "source": [
    "follower_data[\"followerIDs\"] = follower_data[\"followerIDs\"].fillna(\"\")"
   ]
  },
  {
   "cell_type": "code",
   "execution_count": 7,
   "metadata": {},
   "outputs": [],
   "source": [
    "to_lst = lambda x:np.asarray(x.split(\", \"))\n",
    "follower_data[\"followerIDs_lst\"] = follower_data[\"followerIDs\"].apply(to_lst)"
   ]
  },
  {
   "cell_type": "code",
   "execution_count": 8,
   "metadata": {},
   "outputs": [],
   "source": [
    "common = lambda x:np.intersect1d(x,unique_uids)\n",
    "follower_data[\"req_followerIDs_lst\"] = follower_data[\"followerIDs_lst\"].apply(common)"
   ]
  },
  {
   "cell_type": "code",
   "execution_count": 9,
   "metadata": {},
   "outputs": [],
   "source": [
    "tweet_data[\"retweet_user_id\"] = tweet_data[\"retweet_user_id\"].fillna(\"\").apply(lambda x: (x[1:]))"
   ]
  },
  {
   "cell_type": "code",
   "execution_count": 10,
   "metadata": {},
   "outputs": [],
   "source": [
    "tweet_data[\"user_id\"] = tweet_data[\"user_id\"].fillna(\"\")"
   ]
  },
  {
   "cell_type": "code",
   "execution_count": 11,
   "metadata": {},
   "outputs": [],
   "source": [
    "follower_edge_list = []\n",
    "for i in range(len(follower_data)):\n",
    "    for follower in follower_data[\"req_followerIDs_lst\"][i]:\n",
    "        follower_edge_list.append((follower,follower_data[\"user_id\"][i]))"
   ]
  },
  {
   "cell_type": "code",
   "execution_count": 12,
   "metadata": {},
   "outputs": [],
   "source": [
    "follower_followee_graph = igraph.Graph.TupleList(follower_edge_list, directed = True)\n",
    "follower_followee_graph.deg = [i+5 for i in follower_followee_graph.indegree()] "
   ]
  },
  {
   "cell_type": "code",
   "execution_count": 13,
   "metadata": {},
   "outputs": [],
   "source": [
    "follower_followee_graph.id = [v[\"name\"] for v in follower_followee_graph.vs]\n",
    "follower_followee_graph.name_obj = []\n",
    "for uid in follower_followee_graph.id: \n",
    "    follower_followee_graph.name_obj.append(follower_data.loc[follower_data['user_id'] == uid, 'screen_name'])\n",
    "\n",
    "follower_followee_graph.name = []\n",
    "for name in follower_followee_graph.name_obj:\n",
    "    if(name.empty):\n",
    "        follower_followee_graph.name.append(\"nan\")\n",
    "    else:\n",
    "        follower_followee_graph.name.append(name.values[0])\n",
    "layout = follower_followee_graph.layout(\"star\")"
   ]
  },
  {
   "cell_type": "markdown",
   "metadata": {},
   "source": [
    "# Follower Followee Network\n",
    "Nodes are Users<br>\n",
    "Edge from i to j means i follows j<br>\n",
    "Main Influencers are the ones with High Degree Centrality.They are AmazonWatch and herbivore_club<br>\n",
    "Size of node in the plot is it's indegree"
   ]
  },
  {
   "cell_type": "code",
   "execution_count": 14,
   "metadata": {},
   "outputs": [],
   "source": [
    "out = plot(follower_followee_graph,vertex_size=follower_followee_graph.deg,vertex_label=follower_followee_graph.name,vertex_label_size=(follower_followee_graph.deg),edge_arrow_size=0.5)\n",
    "out.save('Outputs/DS2.1.1.png')"
   ]
  },
  {
   "cell_type": "markdown",
   "metadata": {},
   "source": [
    "<img src=\"Outputs/DS2.1.1.png\">"
   ]
  },
  {
   "cell_type": "code",
   "execution_count": 15,
   "metadata": {},
   "outputs": [],
   "source": [
    "community = follower_followee_graph.community_walktrap()"
   ]
  },
  {
   "cell_type": "markdown",
   "metadata": {},
   "source": [
    "# Communities\n",
    "\n",
    "Community detection based on random walks<br>\n",
    "Two main influencers are part of same community<br>\n",
    "This is because there are no two sides of the case and all followers follow both influencers"
   ]
  },
  {
   "cell_type": "code",
   "execution_count": 16,
   "metadata": {},
   "outputs": [],
   "source": [
    "out = plot(community.as_clustering(),edge_arrow_size=0.6,vertex_label=follower_followee_graph.name,vertex_label_size=follower_followee_graph.deg)\n",
    "out.save('Outputs/DS2.1.2.png')"
   ]
  },
  {
   "cell_type": "markdown",
   "metadata": {},
   "source": [
    "<img src=\"Outputs/DS2.1.2.png\">"
   ]
  },
  {
   "cell_type": "code",
   "execution_count": 17,
   "metadata": {},
   "outputs": [],
   "source": [
    "edge_list_tweets_existing = []\n",
    "common_users = list(set(unique_uids))\n",
    "for i in range(len(tweet_data)):\n",
    "    if tweet_data.iloc[i][\"retweet_user_id\"] in common_users : edge_list_tweets_existing.append((tweet_data.iloc[i][\"retweet_user_id\"],tweet_data.iloc[i][\"user_id\"]))"
   ]
  },
  {
   "cell_type": "code",
   "execution_count": 18,
   "metadata": {},
   "outputs": [],
   "source": [
    "Gm = igraph.Graph.TupleList(edge_list_tweets_existing, directed = True)\n",
    "Gm.deg = [2*i+5 for i in Gm.outdegree()]"
   ]
  },
  {
   "cell_type": "code",
   "execution_count": 19,
   "metadata": {},
   "outputs": [],
   "source": [
    "Gm.id = [v[\"name\"] for v in Gm.vs]\n",
    "\n",
    "Gm.name = []\n",
    "for i in range(len(Gm.id)):\n",
    "    uid = Gm.id[i]\n",
    "    name = follower_data.loc[follower_data['user_id'] == uid, 'screen_name']\n",
    "    if(Gm.deg[i]==0):\n",
    "        Gm.name.append(\"\")\n",
    "    elif(name.empty):\n",
    "        Gm.name.append(\"nan\")\n",
    "    else:\n",
    "        Gm.name.append(name.values[0])"
   ]
  },
  {
   "cell_type": "markdown",
   "metadata": {},
   "source": [
    "# Retweet Network\n",
    "Nodes are Users<br>\n",
    "Edge from i to j means i follows j<br>\n",
    "Most retweeted users are AmazonWatch and herbivore_club<br>\n",
    "## Follower followee vs retweet network\n",
    "The two main influencers tweets aren the ones which got retweeted maximum<br>\n",
    "## Reachability\n",
    "Reachability of both is same as their out degree."
   ]
  },
  {
   "cell_type": "code",
   "execution_count": 20,
   "metadata": {},
   "outputs": [],
   "source": [
    "out = plot(Gm,vertex_size=Gm.deg,vertex_label=Gm.name,vertex_label_size = Gm.deg)\n",
    "out.save(\"Outputs/DS2.2.png\")"
   ]
  },
  {
   "cell_type": "markdown",
   "metadata": {},
   "source": [
    "<img src=\"Outputs/DS2.2.png\">"
   ]
  },
  {
   "cell_type": "code",
   "execution_count": 21,
   "metadata": {},
   "outputs": [],
   "source": [
    "tweet_data1 = tweet_data.loc[(tweet_data['created_at'] >= '2019-11-21 00:00:00') & (tweet_data['created_at'] < '2019-11-22 00:00:00')]\n",
    "tweet_data2 = tweet_data.loc[(tweet_data['created_at'] >= '2019-11-21 00:00:00') & (tweet_data['created_at'] < '2019-11-23 00:00:00')]\n",
    "tweet_data3 = tweet_data.loc[(tweet_data['created_at'] >= '2019-11-21 00:00:00') & (tweet_data['created_at'] < '2019-11-24 00:00:00')]\n",
    "tweet_data4 = tweet_data.loc[(tweet_data['created_at'] >= '2019-11-21 00:00:00') & (tweet_data['created_at'] < '2019-11-25 00:00:00')]"
   ]
  },
  {
   "cell_type": "code",
   "execution_count": 22,
   "metadata": {},
   "outputs": [],
   "source": [
    "edge_list_tweets_1 = []\n",
    "for i in range(len(tweet_data1)):\n",
    "    if tweet_data.iloc[i][\"retweet_user_id\"]!= \"\" : edge_list_tweets_1.append((tweet_data.iloc[i][\"retweet_user_id\"],tweet_data.iloc[i][\"user_id\"]))"
   ]
  },
  {
   "cell_type": "code",
   "execution_count": 23,
   "metadata": {},
   "outputs": [],
   "source": [
    "retweet_graph_1 = igraph.Graph.TupleList(edge_list_tweets_1, directed = True)\n",
    "retweet_graph_1.id = [v[\"name\"] for v in retweet_graph_1.vs]"
   ]
  },
  {
   "cell_type": "code",
   "execution_count": 24,
   "metadata": {},
   "outputs": [],
   "source": [
    "edge_list_tweets_2 = []\n",
    "for i in range(len(tweet_data2)):\n",
    "    if tweet_data.iloc[i][\"retweet_user_id\"]!= \"\" : edge_list_tweets_2.append((tweet_data.iloc[i][\"retweet_user_id\"],tweet_data.iloc[i][\"user_id\"]))"
   ]
  },
  {
   "cell_type": "code",
   "execution_count": 25,
   "metadata": {},
   "outputs": [],
   "source": [
    "retweet_graph_2 = igraph.Graph.TupleList(edge_list_tweets_2, directed = True)\n",
    "retweet_graph_2.id = [v[\"name\"] for v in retweet_graph_2.vs]"
   ]
  },
  {
   "cell_type": "code",
   "execution_count": 26,
   "metadata": {},
   "outputs": [],
   "source": [
    "edge_list_tweets_3 = []\n",
    "for i in range(len(tweet_data3)):\n",
    "    if tweet_data.iloc[i][\"retweet_user_id\"]!= \"\" : edge_list_tweets_3.append((tweet_data.iloc[i][\"retweet_user_id\"],tweet_data.iloc[i][\"user_id\"]))"
   ]
  },
  {
   "cell_type": "code",
   "execution_count": 27,
   "metadata": {},
   "outputs": [],
   "source": [
    "retweet_graph_3 = igraph.Graph.TupleList(edge_list_tweets_3, directed = True)\n",
    "\n",
    "retweet_graph_3.id = [v[\"name\"] for v in retweet_graph_3.vs]"
   ]
  },
  {
   "cell_type": "code",
   "execution_count": 28,
   "metadata": {},
   "outputs": [],
   "source": [
    "edge_list_tweets_4 = []\n",
    "for i in range(len(tweet_data4)):\n",
    "    if tweet_data.iloc[i][\"retweet_user_id\"]!= \"\" : edge_list_tweets_4.append((tweet_data.iloc[i][\"retweet_user_id\"],tweet_data.iloc[i][\"user_id\"]))"
   ]
  },
  {
   "cell_type": "code",
   "execution_count": 29,
   "metadata": {},
   "outputs": [],
   "source": [
    "retweet_graph_4 = igraph.Graph.TupleList(edge_list_tweets_4, directed = True)\n",
    "\n",
    "retweet_graph_4.id = [v[\"name\"] for v in retweet_graph_4.vs]\n",
    "col=[]\n",
    "for i in retweet_graph_4.id:\n",
    "    if(i in set(retweet_graph_1.id)):\n",
    "        col.append('red')\n",
    "    elif(i in set(retweet_graph_2.id)):\n",
    "        col.append('blue')\n",
    "    elif(i in set(retweet_graph_3.id)):\n",
    "        col.append('green')\n",
    "    else:\n",
    "        col.append('yellow')        "
   ]
  },
  {
   "cell_type": "markdown",
   "metadata": {},
   "source": [
    "# Analysis over time\n",
    "## Retweet network\n",
    "Day 1 - Red<br>\n",
    "Day 2 - Blue<br>\n",
    "Day 3 - Green<br>\n",
    "Day 4 - Yellow<br>\n",
    "## Communities growing over time\n",
    "Independent of the day which the original tweet was tweeted, communities are growing, which means the topic is trending for long time"
   ]
  },
  {
   "cell_type": "code",
   "execution_count": 30,
   "metadata": {},
   "outputs": [],
   "source": [
    "out = plot(retweet_graph_4,vertex_size=10,vertex_color=col)\n",
    "out.save('Outputs/DS2.3.png')"
   ]
  },
  {
   "cell_type": "markdown",
   "metadata": {},
   "source": [
    "<img src=\"Outputs/DS2.3.png\">"
   ]
  },
  {
   "cell_type": "code",
   "execution_count": 31,
   "metadata": {},
   "outputs": [],
   "source": [
    "required_follower_data = follower_data[follower_data['screen_name']=='AmazonWatch'] "
   ]
  },
  {
   "cell_type": "code",
   "execution_count": 32,
   "metadata": {},
   "outputs": [],
   "source": [
    "required_follower_data1 = follower_data[follower_data['screen_name']=='herbivore_club'] "
   ]
  },
  {
   "cell_type": "code",
   "execution_count": 33,
   "metadata": {},
   "outputs": [],
   "source": [
    "required_follower_data = required_follower_data.append(required_follower_data1)"
   ]
  },
  {
   "cell_type": "code",
   "execution_count": 34,
   "metadata": {},
   "outputs": [],
   "source": [
    "AmazonWatch = tweet_data[tweet_data['screen_name']=='AmazonWatch']['text'].iloc[0]\n",
    "AmazonWatch_sentiment = TextBlob(AmazonWatch).sentiment\n",
    "AmazonWatch_followers = follower_data[follower_data['screen_name']=='AmazonWatch']['req_followerIDs_lst'].iloc[0]\n",
    "AmazonWatch_sentiment_lst = []\n",
    "for i in range(len(AmazonWatch_followers)):\n",
    "    txt = tweet_data[tweet_data['user_id']==AmazonWatch_followers[i]]['text'].iloc[0]\n",
    "    AmazonWatch_sentiment_lst.append(TextBlob(txt).sentiment)"
   ]
  },
  {
   "cell_type": "code",
   "execution_count": 35,
   "metadata": {},
   "outputs": [],
   "source": [
    "herbivore_club = tweet_data[tweet_data['screen_name']=='herbivore_club']['text'].iloc[0]\n",
    "herbivore_club_sentiment = TextBlob(herbivore_club).sentiment\n",
    "herbivore_club_followers = follower_data[follower_data['screen_name']=='herbivore_club']['req_followerIDs_lst'].iloc[0]\n",
    "herbivore_club_sentiment_lst = []\n",
    "for i in range(len(herbivore_club_followers)):\n",
    "    txt = tweet_data[tweet_data['user_id']==herbivore_club_followers[i]]['text'].iloc[0]\n",
    "    herbivore_club_sentiment_lst.append(TextBlob(txt).sentiment)"
   ]
  },
  {
   "cell_type": "markdown",
   "metadata": {},
   "source": [
    "# Sentiments of Influencers Vs Propagators\n",
    "Main Influencers - AmazonWatch and herbivore_club<br>\n",
    "## AmazonWatch\n",
    "Sentiment of some of the followers are deviating from his sentiment\n",
    "## herbivore_club\n",
    "Sentiment of some of the followers are deviating from his sentiment\n",
    "## Plot\n",
    "Y axis - Polarity (-1 very negative to +1 very positive)<br>\n",
    "Blue line is sentiment of influencer<br>\n",
    "Red dots are sentiments of propogators<br>"
   ]
  },
  {
   "cell_type": "code",
   "execution_count": 36,
   "metadata": {},
   "outputs": [
    {
     "data": {
      "image/png": "[encoded data removed]",
      "text/plain": [
       "<Figure size 432x288 with 1 Axes>"
      ]
     },
     "metadata": {
      "needs_background": "light"
     },
     "output_type": "display_data"
    }
   ],
   "source": [
    "x = numpy.array(range(1,len(AmazonWatch_sentiment_lst)+1))\n",
    "y1 = numpy.array([AmazonWatch_sentiment.polarity]*(len(AmazonWatch_sentiment_lst)))\n",
    "y2 = numpy.array([x.polarity for x in AmazonWatch_sentiment_lst])\n",
    "\n",
    "fig = pyplot.figure()\n",
    "ax = fig.add_subplot(111)\n",
    "ax.set_ylim(-1,1)\n",
    "pyplot.xlabel('Followers')\n",
    "pyplot.ylabel('Polarity')\n",
    "\n",
    "pyplot.plot(x,y1,label=\"Influencer-AmazonWatch\",color='b')\n",
    "# ax.annotate(str(0),xy=(0,0))\n",
    "# for i,j in zip(x,y1):\n",
    "#     ax.annotate(str(j),xy=(i,j))\n",
    "\n",
    "pyplot.scatter(x,y2,label=\"Propagators\",color='r')\n",
    "for i,j in zip(x,y2):\n",
    "    ax.annotate(str(j)[:7],xy=(i,j))\n",
    "    \n",
    "pyplot.legend(loc=\"upper left\")\n",
    "\n",
    "pyplot.savefig('Outputs/DS2.4.1.png')"
   ]
  },
  {
   "cell_type": "markdown",
   "metadata": {},
   "source": [
    "<img src=\"Outputs/DS2.4.1.png\">"
   ]
  },
  {
   "cell_type": "code",
   "execution_count": 37,
   "metadata": {},
   "outputs": [
    {
     "data": {
      "image/png": "[encoded data removed]",
      "text/plain": [
       "<Figure size 432x288 with 1 Axes>"
      ]
     },
     "metadata": {
      "needs_background": "light"
     },
     "output_type": "display_data"
    }
   ],
   "source": [
    "x = numpy.array(range(1,len(herbivore_club_sentiment_lst)+1))\n",
    "y1 = numpy.array([herbivore_club_sentiment.polarity]*(len(herbivore_club_sentiment_lst)))\n",
    "y2 = numpy.array([x.polarity for x in herbivore_club_sentiment_lst])\n",
    "\n",
    "fig = pyplot.figure()\n",
    "ax = fig.add_subplot(111)\n",
    "ax.set_ylim(-1,1)\n",
    "pyplot.xlabel('Followers')\n",
    "pyplot.ylabel('Polarity')\n",
    "\n",
    "pyplot.plot(x,y1,label=\"Influencer-herbivore_club\",color='b')\n",
    "# ax.annotate(str(0),xy=(0,0))\n",
    "# for i,j in zip(x,y1):\n",
    "#     ax.annotate(str(j),xy=(i,j))\n",
    "\n",
    "pyplot.scatter(x,y2,label=\"Propagators\",color='r')\n",
    "for i,j in zip(x,y2):\n",
    "    ax.annotate(str(j)[:7],xy=(i,j))\n",
    "    \n",
    "pyplot.legend(loc=\"upper left\")\n",
    "\n",
    "pyplot.savefig('Outputs/DS2.4.2.png')"
   ]
  },
  {
   "cell_type": "markdown",
   "metadata": {},
   "source": [
    "<img src=\"Outputs/DS2.4.2.png\">"
   ]
  }
 ],
 "metadata": {
  "kernelspec": {
   "display_name": "Python 3",
   "language": "python",
   "name": "python3"
  },
  "language_info": {
   "codemirror_mode": {
    "name": "ipython",
    "version": 3
   },
   "file_extension": ".py",
   "mimetype": "text/x-python",
   "name": "python",
   "nbconvert_exporter": "python",
   "pygments_lexer": "ipython3",
   "version": "3.6.8"
  }
 },
 "nbformat": 4,
 "nbformat_minor": 2
}
